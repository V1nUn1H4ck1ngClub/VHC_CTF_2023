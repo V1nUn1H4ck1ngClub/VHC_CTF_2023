{
 "cells": [
  {
   "cell_type": "code",
   "execution_count": 1,
   "metadata": {},
   "outputs": [],
   "source": [
    "from sage.all import *\n",
    "from hashlib import sha256, sha1\n",
    "from Crypto.Util.number import *\n",
    "from pwn import *\n",
    "from ecdsa.ecdsa import Private_key, Public_key, generator_256\n",
    "import re\n",
    "import json"
   ]
  },
  {
   "cell_type": "code",
   "execution_count": 2,
   "metadata": {},
   "outputs": [
    {
     "name": "stdout",
     "output_type": "stream",
     "text": [
      "[x] Opening connection to 14.225.211.39 on port 13375\n",
      "[x] Opening connection to 14.225.211.39 on port 13375: Trying 14.225.211.39\n",
      "[+] Opening connection to 14.225.211.39 on port 13375: Done\n",
      "b'Welcome to College of VHC!\\n'\n",
      "b'Hell yeah, we are the professors grading your exam!\\n'\n",
      "b'Professor s4shaNull is/are grading your exam...\\n'\n",
      "b'Your grade is F. We are 54% confident about that.\\n'\n",
      "b'Professor goldenskygiang is/are grading your exam...\\n'\n",
      "b'Your grade is F. We are 55% confident about that.\\n'\n",
      "b'Professor Thanh-WuTan & Cl4ris is/are grading your exam...\\n'\n",
      "b'Your grade is F. We are 65% confident about that.\\n'\n",
      "58\n",
      "b'We use curve secp256k1.\\n'\n",
      "b'Now submit your transcript to Office of Registrar! Remember to tell them reverify our signature with this pubkey.\\n'\n"
     ]
    }
   ],
   "source": [
    "io = remote(\"14.225.211.39\", 13375)\n",
    "request_1 = {\"cmd\": \"get_transcript\"}\n",
    "request_2 = {\"cmd\": \"registrar_submission\",\n",
    "             \"msg\": \"Student: h114mx001, Grade: A\",\n",
    "             \"pubkey\": None,\n",
    "             \"r\": None,\n",
    "             \"s\": None}\n",
    "# for integer catch\n",
    "pattern = re.compile(r\"(\\d+)\")\n",
    "# non-sense messages\n",
    "io.sendline(json.dumps(request_1).encode())\n",
    "for _ in range(8):\n",
    "    print(io.recvline())\n",
    "# leaked_percentage\n",
    "leaked_percentage = int(pattern.findall(io.recvline().decode())[0])\n",
    "leaked_bits = int(leaked_percentage * 256 / 100)\n",
    "B = 2 ** leaked_bits\n",
    "print(leaked_percentage)\n",
    "print(io.recvline())\n",
    "msg1 = json.loads(io.recvline().decode())\n",
    "msg2 = json.loads(io.recvline().decode())\n",
    "msg3 = json.loads(io.recvline().decode())\n",
    "print(io.recvline())\n",
    "pubkey = io.recvline().decode().strip()\n",
    "# convert to tuple int from (x, y) str\n",
    "pubkey = tuple(map(int, pattern.findall(pubkey)))"
   ]
  },
  {
   "cell_type": "code",
   "execution_count": 3,
   "metadata": {},
   "outputs": [],
   "source": [
    "known = [msg1, msg2, msg3]\n",
    "msgs = []\n",
    "sigs = []\n",
    "\n",
    "for msg in known:\n",
    "    msgs_hsh = bytes_to_long(sha256(msg['msg'].encode()).digest())\n",
    "    msgs.append(msgs_hsh)\n",
    "    msg_sigs = (int(msg['r'], 16), int(msg['s'], 16))\n",
    "    sigs.append(msg_sigs)"
   ]
  },
  {
   "cell_type": "code",
   "execution_count": 4,
   "metadata": {},
   "outputs": [],
   "source": [
    "# curve init \n",
    "# https://neuromancer.sk/std/nist/P-256\n",
    "p = 0xffffffff00000001000000000000000000000000ffffffffffffffffffffffff\n",
    "K = GF(p)\n",
    "a = K(0xffffffff00000001000000000000000000000000fffffffffffffffffffffffc)\n",
    "b = K(0x5ac635d8aa3a93e7b3ebbd55769886bc651d06b0cc53b0f63bce3c3e27d2604b)\n",
    "E = EllipticCurve(K, (a, b))\n",
    "G = E(0x6b17d1f2e12c4247f8bce6e563a440f277037d812deb33a0f4a13945d898c296, 0x4fe342e2fe1a7f9b8ee7eb4a7c0f9e162bce33576b315ececbb6406837bf51f5)\n",
    "E.set_order(0xffffffff00000000ffffffffffffffffbce6faada7179e84f3b9cac2fc632551 * 0x1)\n",
    "n = E.order()\n",
    "P = E(pubkey)"
   ]
  },
  {
   "cell_type": "code",
   "execution_count": 5,
   "metadata": {},
   "outputs": [],
   "source": [
    "def make_matrix():\n",
    "    (r1, s1), (r2, s2), (r3, s3) = sigs\n",
    "    m1, m2, m3 = msgs\n",
    "\n",
    "    t1 = r1 * inverse_mod(s1, n)\n",
    "    t2 = r2 * inverse_mod(s2, n)\n",
    "    t3 = r3 * inverse_mod(s3, n)\n",
    "\n",
    "    a1 = m1 * inverse_mod(s1, n)\n",
    "    a2 = m2 * inverse_mod(s2, n)\n",
    "    a3 = m3 * inverse_mod(s3, n)\n",
    "\n",
    "    basis = [ [n,           0,           0,            0,                  0],\n",
    "              [0,           n,           0,            0,                  0],\n",
    "              [0,           0,           n,            0,                  0],\n",
    "              [t1,          t2,          t3,           B / n,              0],\n",
    "              [a1,          a2,          a3,           0,                  B]\n",
    "             ]\n",
    "    return Matrix(QQ, basis)"
   ]
  },
  {
   "cell_type": "code",
   "execution_count": 6,
   "metadata": {},
   "outputs": [
    {
     "name": "stdout",
     "output_type": "stream",
     "text": [
      "Found private key:  83762756493044608548654129447419464879663577301422681408816629019118533514356\n",
      "83762756493044608548654129447419464879663577301422681408816629019118533514356\n"
     ]
    }
   ],
   "source": [
    "matrix = make_matrix()\n",
    "new_matrix = matrix.LLL(early_red=True, use_siegel=True)\n",
    "r1_inv = pow(sigs[0][0], -1, n)\n",
    "s1 = sigs[0][1]\n",
    "d = 0\n",
    "for row in new_matrix:\n",
    "    nonce = int(row[0])\n",
    "    potential_private_key = int(r1_inv * ((s1 * nonce) - msgs[0]))\n",
    "    if G * potential_private_key == P:\n",
    "        print(\"Found private key: \", potential_private_key)\n",
    "        d = potential_private_key\n",
    "        break\n",
    "print(d)"
   ]
  },
  {
   "cell_type": "code",
   "execution_count": 7,
   "metadata": {},
   "outputs": [
    {
     "name": "stdout",
     "output_type": "stream",
     "text": [
      "{'msg': 'Student: h114mx001, GPA: 4.0', 'pubkey': (7713807504938394601069661789016955879040234882672017235376729571675452480162, 3111693241484916818383684507700202118658495127033153567444754653936442398088), 'r': '0x3e7b1498143f9c8d0066295f7cbee7bbaefe2d632478db757f708e4a75402da8', 's': '0xd3413215b7349c885bea5c469743aa8ec2f9c56e3ed5c763abc95534f977751a'}\n"
     ]
    }
   ],
   "source": [
    "# craft message\n",
    "G = generator_256\n",
    "pk = Public_key(G, G * d)\n",
    "sk = Private_key(pk, d)\n",
    "msg = \"Student: h114mx001, GPA: 4.0\"\n",
    "msg_hash = sha256(msg.encode()).digest()\n",
    "# you can use any nonce\n",
    "nonce = sha256(b\"hehehehe\").digest()\n",
    "signature = sk.sign(bytes_to_long(msg_hash), bytes_to_long(nonce))\n",
    "payload = {\"msg\": msg, \"pubkey\": (int(pk.point.x()), int(pk.point.y())),\"r\": hex(signature.r), \"s\": hex(signature.s)}\n",
    "print(payload)"
   ]
  },
  {
   "cell_type": "code",
   "execution_count": 8,
   "metadata": {},
   "outputs": [
    {
     "name": "stdout",
     "output_type": "stream",
     "text": [
      "{'cmd': 'registrar_submission', 'msg': 'Student: h114mx001, GPA: 4.0', 'pubkey': (7713807504938394601069661789016955879040234882672017235376729571675452480162, 3111693241484916818383684507700202118658495127033153567444754653936442398088), 'r': '0x3e7b1498143f9c8d0066295f7cbee7bbaefe2d632478db757f708e4a75402da8', 's': '0xd3413215b7349c885bea5c469743aa8ec2f9c56e3ed5c763abc95534f977751a'}\n",
      "b'Hello, this is Office of Registrar. We are verifying your transcript...\\n'\n",
      "b\"Congrats! You are getting President's List this academic year!\\n\"\n",
      "b\"Here is your flag: VHC2023{d0n't_try_th1s_4t_h0me}\\n\"\n"
     ]
    }
   ],
   "source": [
    "request_2[\"msg\"] = payload[\"msg\"]\n",
    "request_2[\"pubkey\"] = payload[\"pubkey\"]\n",
    "request_2[\"r\"] = payload[\"r\"]\n",
    "request_2[\"s\"] = payload[\"s\"]\n",
    "print(request_2)\n",
    "io.sendline(json.dumps(request_2).encode())\n",
    "print(io.recvline())\n",
    "print(io.recvline())\n",
    "print(io.recvline())"
   ]
  },
  {
   "cell_type": "code",
   "execution_count": null,
   "metadata": {},
   "outputs": [],
   "source": [
    "test = {\"cmd\": \"registrar_submission\", \"msg\": \"Student: h114mx001, GPA: 4.0\", \"pubkey\": (17946873503476711239924231345164312800696993624013434822027562686555764449690, 78795712735901101180555795177608565505810033906111059955498467848732713081335), \"r\": 0x67492a0ded84d9525f8f4c906c3441b3b77e646712b8617495117d5a45b9c084, \"s\": 0xf90cb68a0cd4eab1e853e3d2b5d1aaffbb50c98aaa4c67673a2d14ed2114970e}"
   ]
  }
 ],
 "metadata": {
  "kernelspec": {
   "display_name": "Python 3",
   "language": "python",
   "name": "python3"
  },
  "language_info": {
   "codemirror_mode": {
    "name": "ipython",
    "version": 3
   },
   "file_extension": ".py",
   "mimetype": "text/x-python",
   "name": "python",
   "nbconvert_exporter": "python",
   "pygments_lexer": "ipython3",
   "version": "3.10.12"
  }
 },
 "nbformat": 4,
 "nbformat_minor": 2
}
